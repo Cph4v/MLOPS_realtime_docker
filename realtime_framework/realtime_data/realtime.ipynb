{
 "cells": [
  {
   "cell_type": "markdown",
   "metadata": {},
   "source": [
    "<div class=\"alert alert-block alert-info\">\n",
    "    <h2 align=\"center\"style=\"color: black;\">Machine Learning-based Algorithmic Trading</h2>\n",
    "    <h3 align=\"center\"style=\"color: black;\">Execution Notebook</h3>\n",
    "</div>"
   ]
  },
  {
   "cell_type": "markdown",
   "metadata": {},
   "source": [
    "# 1. Initialization"
   ]
  },
  {
   "cell_type": "code",
   "execution_count": 1,
   "metadata": {},
   "outputs": [],
   "source": [
    "%load_ext autoreload\n",
    "%reload_ext autoreload\n",
    "%autoreload 2"
   ]
  },
  {
   "cell_type": "code",
   "execution_count": null,
   "metadata": {},
   "outputs": [],
   "source": [
    "import sys\n",
    "from dotenv import load_dotenv\n",
    "import os\n",
    "load_dotenv()\n",
    "sys.path.append(\"./forex_MLOps\")"
   ]
  },
  {
   "cell_type": "markdown",
   "metadata": {},
   "source": [
    "## 1.1 Import Functions"
   ]
  },
  {
   "cell_type": "code",
   "execution_count": null,
   "metadata": {},
   "outputs": [],
   "source": [
    "import uuid\n",
    "import pandas as pd\n",
    "import warnings\n",
    "warnings.filterwarnings(\"ignore\", category=UserWarning, message=\"Trying to unpickle estimator StandardScaler from version\")\n",
    "from configs.history_data_crawlers_config import root_path\n",
    "from datetime import timedelta\n",
    "from realtime.realtime_dataset_functions import dataset_gen_realtime_loop\n",
    "run_id = str(uuid.uuid4())\n",
    "\n",
    "from realtime.realtime_utils import (\n",
    "    add_RSI_to_realtime_dataset,\n",
    "    add_real_time_candles,\n",
    "    add_candle_fe,\n",
    "    add_fe_cndl_shift_fe_realtime_run,\n",
    "    add_fe_win_realtime_run,\n",
    "    add_fe_time_realtime_run,\n",
    "    add_fe_market_close_realtime_run,\n",
    "    get_vantage_time_now,\n",
    "    sleep_until_next_run,\n",
    "    predict_realtime,\n",
    "    is_forex_market_open,\n",
    ")\n"
   ]
  },
  {
   "cell_type": "markdown",
   "metadata": {},
   "source": [
    "## 1.2 Initialize Reporter (Telegram)\n",
    "\n",
    "Configure your telegram bot variables. You need to set `TELEGRAM_CHAT_ID`, `TELEGRAM_CHAT_ID` and `TELEGRAM_BOT_TOKEN_SIGNAL` in the .env file. See [this tutorial](https://gist.github.com/nafiesl/4ad622f344cd1dc3bb1ecbe468ff9f8a)."
   ]
  },
  {
   "cell_type": "code",
   "execution_count": null,
   "metadata": {},
   "outputs": [],
   "source": [
    "from utils.telegram_functions import log_agent\n",
    "from datetime import datetime\n",
    "import pytz\n",
    "\n",
    "\n",
    "bot_token = os.getenv('TELEGRAM_BOT_TOKEN')\n",
    "bot_token_signal = os.getenv('TELEGRAM_BOT_TOKEN_SIGNAL')\n",
    "chat_id = os.getenv('TELEGRAM_CHAT_ID')\n",
    "\n",
    "now = datetime.now(pytz.timezone('Asia/Tehran'))\n",
    "date_string = now.strftime(\"%d/%m/%Y %H:%M:%S\")\n",
    "bot = log_agent(bot_token=bot_token,chat_id=chat_id, PRINT=True, TELEGRAM=True)\n",
    "bot_signal = log_agent(bot_token=bot_token_signal,chat_id=chat_id, PRINT=True, TELEGRAM=True)\n",
    "bot.send_message(text=\"🚩\"*15)\n",
    "bot.send_message(text=\"👇\"*15)\n",
    "bot.send_message(text=f\"start date_time ={date_string} - tehran time\")  \n",
    "bot_signal.send_message(text=f\"start date_time ={date_string} - tehran time\")  "
   ]
  },
  {
   "cell_type": "markdown",
   "metadata": {},
   "source": [
    "## 1.3 Load Model & Set Strategy"
   ]
  },
  {
   "cell_type": "code",
   "execution_count": null,
   "metadata": {},
   "outputs": [],
   "source": [
    "import xgboost as xgb\n",
    "import pandas as pd\n",
    "import pickle\n",
    "import joblib\n",
    "from configs.history_data_crawlers_config import root_path\n",
    "\n",
    "models_list = [\n",
    "    {\n",
    "        \"model_name\": \"XGB_USDJPY_1\",\n",
    "        \"model_path\": f\"{root_path}/data/models/XGB_long_USDJPY_M400_TP30_SL7_prof1675.01_max_dd-9.76_median_sig269.00_date2024-10-09_14_40.pkl\",\n",
    "        \"target_details\":{\n",
    "            \"trade_mode\": \"long\",\n",
    "            \"target_symbol\": \"USDJPY\",\n",
    "            \"look_ahead\": 400,\n",
    "            \"take_profit\": 30,\n",
    "            \"stop_loss\": 7,\n",
    "        },\n",
    "\n",
    "        \"strategy_details\":{\n",
    "            \"trade_mode\": \"long\",\n",
    "            \"target_symbol\": \"USDJPY\",\n",
    "            \"look_ahead\": 300,\n",
    "            \"take_profit\": 30,\n",
    "            \"stop_loss\": 20,\n",
    "            \"volume\": 1,\n",
    "        },\n",
    "\n",
    "    },\n",
    "\n",
    "    \n",
    "]\n",
    "\n",
    "print(f\"No. of models to load: {len(models_list)}\")\n",
    "\n",
    "\n",
    "for model_info in models_list:\n",
    "    print(f\"---> model_id_name: {model_info['model_name']}\")\n",
    "    with open(model_info[\"model_path\"], 'rb') as file:\n",
    "         model_info[\"model_object\"] = pickle.load(file)\n",
    "\n",
    "\n",
    "bot.send_message(\"--> models loaded.\")"
   ]
  },
  {
   "cell_type": "markdown",
   "metadata": {},
   "source": [
    "## 1.4 Set Feature Creation Config\n",
    "\n",
    "### General Config"
   ]
  },
  {
   "cell_type": "code",
   "execution_count": null,
   "metadata": {},
   "outputs": [],
   "source": [
    "# from configs.feature_configs_general import generate_general_config\n",
    "# feature_config = generate_general_config()"
   ]
  },
  {
   "cell_type": "markdown",
   "metadata": {},
   "source": [
    "### Model Specific Config"
   ]
  },
  {
   "cell_type": "code",
   "execution_count": null,
   "metadata": {},
   "outputs": [],
   "source": [
    "df_imp = model_info[\"model_object\"].feature_importance\n",
    "model_features = set(df_imp.feature_name)\n",
    "from utils.feature_config_extractor.extract_config_from_features import extract_config_from_selected_feature\n",
    "feature_config = extract_config_from_selected_feature(model_features)\n",
    "del feature_config['NOT_SYMBOL']"
   ]
  },
  {
   "cell_type": "code",
   "execution_count": null,
   "metadata": {},
   "outputs": [],
   "source": [
    "feature_config"
   ]
  },
  {
   "cell_type": "markdown",
   "metadata": {},
   "source": [
    "## 1.5 Initialize Metatrader"
   ]
  },
  {
   "cell_type": "code",
   "execution_count": null,
   "metadata": {},
   "outputs": [],
   "source": [
    "from data_crawlers.metatrader_func import (\n",
    "  initialize_login_metatrader\n",
    ")\n",
    "\n",
    "from trade_execution.metatrader5_trade_execution_functions import (\n",
    "  get_account_info,\n",
    "  initialize_symbols,\n",
    "  place_order_instant,\n",
    "  get_open_orders,\n",
    "  get_open_positions,\n",
    "  close_positions_all_of_them,\n",
    "  check_active_positions_for_time_force_close,\n",
    "  cal_candle_time_now,\n",
    ")\n",
    "\n",
    "all_trades = {}\n",
    "\n",
    "mt5 = initialize_login_metatrader()\n",
    "\n",
    "account_info_dict = get_account_info(mt5,assert_in_demo=True, print_info=True)\n",
    "\n",
    "assert initialize_symbols(\n",
    "  mt5,\n",
    " [\"EURUSD\", \"USDJPY\"]\n",
    "), \"!!! some symbol is not in metatrader for trade\"\n",
    "\n",
    "bot.send_message(text=\"--> metatrader connected.\")"
   ]
  },
  {
   "cell_type": "markdown",
   "metadata": {},
   "source": [
    "## 1.6 Initialize Dataset"
   ]
  },
  {
   "cell_type": "code",
   "execution_count": null,
   "metadata": {},
   "outputs": [],
   "source": [
    "\"\"\"\n",
    "create dataset for the first time. \n",
    "\n",
    "\"\"\"\n",
    "\n",
    "data_size_in_days = 20\n",
    "\n",
    "fe_functions = [\n",
    "    add_real_time_candles,\n",
    "    add_RSI_to_realtime_dataset,\n",
    "    add_fe_cndl_shift_fe_realtime_run,\n",
    "    add_candle_fe,\n",
    "    add_fe_time_realtime_run,\n",
    "    add_fe_win_realtime_run,\n",
    "    add_fe_market_close_realtime_run,\n",
    "\n",
    "]\n",
    "\n",
    "after_merge_functions = [\n",
    "  \n",
    "]\n",
    "\n",
    "dataset_config = {\n",
    "    \"features\": [\n",
    "        \"fe_cndl\",\n",
    "        \"fe_RSI\",\n",
    "        \"fe_ratio\",\n",
    "        \"fe_EMA\",\n",
    "        \"fe_SMA\",\n",
    "        \"fe_cndl_shift\",\n",
    "        \"fe_WIN\",\n",
    "        \"fe_ATR\",\n",
    "        \"fe_RSTD\",\n",
    "        \"fe_time\",\n",
    "        \"fe_market_close\",\n",
    "    ]\n",
    "}\n",
    "\n",
    "dataset, final_df, crawl_time = dataset_gen_realtime_loop(\n",
    "    mt5,fe_functions,feature_config, dataset_config, dataset={}, data_size_in_days=data_size_in_days,\n",
    ")\n",
    "\n",
    "bot.send_message(\"--> dataset initialized.\")\n",
    "final_df.index.max()"
   ]
  },
  {
   "cell_type": "markdown",
   "metadata": {},
   "source": [
    "# 2. Realtime Process"
   ]
  },
  {
   "cell_type": "code",
   "execution_count": null,
   "metadata": {},
   "outputs": [],
   "source": [
    "import pandas as pd\n",
    "import os\n",
    "\n",
    "prediction_data_path = f'{root_path}/data/realtime_trade_prediction_data.parquet'  # Replace with your actual file path\n",
    "\n",
    "try:\n",
    "  # Attempt to read the DataFrame from the file\n",
    "  if os.path.exists(prediction_data_path):\n",
    "    print(\"--> read realtime_trade_prediction_data:\")\n",
    "    preds_df = pd.read_csv(prediction_data_path)\n",
    "  else:\n",
    "    print(\"--> no realtime_trade_prediction_data file. create an emty one:\")\n",
    "    preds_df = pd.DataFrame()\n",
    "except Exception as e:\n",
    "  print(f\"An error occurred while reading the file: {e}\")\n",
    "  preds_df = pd.DataFrame()\n",
    "\n",
    "predictions = {}"
   ]
  },
  {
   "cell_type": "code",
   "execution_count": null,
   "metadata": {},
   "outputs": [],
   "source": [
    "\"\"\"\n",
    "main loop predict\n",
    "\n",
    "\"\"\"\n",
    "import time as tt\n",
    "import traceback\n",
    "\n",
    "run_every = 5 # run every X rounded minute\n",
    "offset_seconds = 1\n",
    "\n",
    "bot.send_message(f\"--> start the realtime loop, run every {run_every} minuts.\")\n",
    "while True:\n",
    "    try:\n",
    "        bot.send_message(f\"🏴󠁫󠁩󠁬󠁿 \"*5)\n",
    "        sleep_until_next_run(run_every = run_every , offset_seconds = offset_seconds,reporter=bot)\n",
    "        assert is_forex_market_open(),\"!!! market is close but we are runnig.\"\n",
    "        bot.send_message(f\"============\")\n",
    "\n",
    "        #?? get data\n",
    "        dataset, final_df, crawl_time = dataset_gen_realtime_loop(\n",
    "        mt5,fe_functions,feature_config, dataset_config, dataset=dataset\n",
    "        )\n",
    "        bot.send_message(f\"--> data updated.\")\n",
    "\n",
    "        #?? predict\n",
    "        predictions, preds_df = predict_realtime(models_list,predictions,preds_df,crawl_time,final_df,reporter=bot)\n",
    "\n",
    "        bot.send_message(f\"--> model predicted.\")\n",
    "        #?? trade\n",
    "        candle_now = cal_candle_time_now()\n",
    "        sinals_df = preds_df.loc[(preds_df[\"_time\"] == candle_now ) & (preds_df[\"model_prediction\"] == 1)].drop_duplicates(\"model_id_name\",keep=\"last\")\n",
    "        bot.send_message(f\"--> shape sinals_df: {sinals_df.shape[0]}.\")\n",
    "        if sinals_df.shape[0]>0:\n",
    "            bot.send_message(f\"--> predict_time: {sinals_df.iloc[0]['predict_time']}.\")\n",
    "            bot_signal.send_message(f\"--> predict_time: {sinals_df.iloc[0]['predict_time']}.\")\n",
    "        for _,row in sinals_df.iterrows():\n",
    "            trade_side = row[\"strategy_trade_mode\"]\n",
    "            symbol = row[\"strategy_target_symbol\"].upper()\n",
    "            lot = row[\"strategy_volume\"]\n",
    "            deviation_points = 20\n",
    "            tp_points = row[\"strategy_take_profit\"] * 10\n",
    "            sl_points = row[\"strategy_stop_loss\"] * 10\n",
    "            look_ahead = row[\"strategy_look_ahead\"] ##?? in minutes\n",
    "            last_candle_close_price = dataset[\"st_one\"][symbol].loc[dataset[\"st_one\"][symbol][\"_time\"]==cal_candle_time_now()][\"Close\"].values[0]\n",
    "\n",
    "            order_info = place_order_instant(\n",
    "            mt5 = mt5,\n",
    "            trade_side = trade_side,\n",
    "            symbol = symbol,\n",
    "            lot = float(lot),\n",
    "            deviation_points = deviation_points,\n",
    "            tp_points = tp_points,\n",
    "            sl_points = sl_points,\n",
    "            last_candle_close_price=last_candle_close_price,\n",
    "            base_price_mode=\"candle_close\"\n",
    "            )\n",
    "\n",
    "            now = get_vantage_time_now()\n",
    "            order_info[\"open_position_time\"] = now\n",
    "            order_info[\"force_close_position_time\"] = get_vantage_time_now() + timedelta(minutes=look_ahead) - timedelta(seconds=get_vantage_time_now().second + 1)\n",
    "\n",
    "            all_trades[int(order_info[\"result\"].order)] = (order_info)\n",
    "            all_trades[int(order_info[\"result\"].order)][\"position_status_active\"] = True\n",
    "            bot.send_message(f\"--> position opened. 💲💲💲💲💲\")\n",
    "            bot_signal.send_message(f\"--> position opened. 💲💲💲💲💲\")\n",
    "\n",
    "        #?? check for timeing\n",
    "        all_trades = check_active_positions_for_time_force_close(mt5,all_trades)\n",
    "        bot.send_message(f\"--> func check_active_positions_for_time_force_close done.\")\n",
    "        bot.send_message(f\"--> loop end.\")\n",
    "        preds_df.to_parquet(f\"{root_path}/data/preds_df.parquet\")\n",
    "\n",
    "    except Exception as e:\n",
    "        bot.send_message(f\"!!! ERROR.\")\n",
    "        bot.send_message(f\"{e}.\")\n",
    "        traceback.print_exc()\n",
    "        tt.sleep(60)\n",
    "        "
   ]
  },
  {
   "cell_type": "markdown",
   "metadata": {},
   "source": [
    "# 3. Order Management Functions"
   ]
  },
  {
   "cell_type": "code",
   "execution_count": null,
   "metadata": {},
   "outputs": [],
   "source": [
    "\n",
    "# all_trades = check_active_positions_for_time_force_close(mt5,all_trades)\n",
    "# # closed_position_info = close_positions_by_id(mt5,order_info[\"result\"].order)\n",
    "# open_orders = get_open_orders(mt5)\n",
    "# open_positions = get_open_positions(mt5)\n",
    "# all_trades,open_orders,open_positions"
   ]
  },
  {
   "cell_type": "code",
   "execution_count": null,
   "metadata": {},
   "outputs": [],
   "source": [
    "\"\"\"\n",
    "close all of the open positions - instant - at market price\n",
    "\n",
    "\"\"\"\n",
    "# closed_positions = close_positions_all_of_them(mt5)\n",
    "\n",
    "# closed_positions"
   ]
  }
 ],
 "metadata": {
  "kernelspec": {
   "display_name": "Python 3 (ipykernel)",
   "language": "python",
   "name": "python3"
  },
  "language_info": {
   "codemirror_mode": {
    "name": "ipython",
    "version": 3
   },
   "file_extension": ".py",
   "mimetype": "text/x-python",
   "name": "python",
   "nbconvert_exporter": "python",
   "pygments_lexer": "ipython3",
   "version": "3.10.13"
  }
 },
 "nbformat": 4,
 "nbformat_minor": 2
}
